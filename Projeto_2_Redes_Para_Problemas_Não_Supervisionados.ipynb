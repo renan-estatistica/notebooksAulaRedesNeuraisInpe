{
  "nbformat": 4,
  "nbformat_minor": 0,
  "metadata": {
    "colab": {
      "name": "Projeto 2 Redes Para Problemas Não Supervisionados.ipynb",
      "provenance": [],
      "authorship_tag": "ABX9TyOBlx2BwFQDKPdjr65Yoh84",
      "include_colab_link": true
    },
    "kernelspec": {
      "name": "python3",
      "display_name": "Python 3"
    },
    "language_info": {
      "name": "python"
    }
  },
  "cells": [
    {
      "cell_type": "markdown",
      "metadata": {
        "id": "view-in-github",
        "colab_type": "text"
      },
      "source": [
        "<a href=\"https://colab.research.google.com/github/renan-estatistica/notebooksAulaRedesNeuraisInpe/blob/main/Projeto_2_Redes_Para_Problemas_N%C3%A3o_Supervisionados.ipynb\" target=\"_parent\"><img src=\"https://colab.research.google.com/assets/colab-badge.svg\" alt=\"Open In Colab\"/></a>"
      ]
    },
    {
      "cell_type": "markdown",
      "source": [
        "Para a primeira base iremos abordar a predição do fluxo crítico de calor ou CHF (*Critical Heat Flux*). Apesar de ser um conjunto de dados pequeno com poucas variáveis e observações, estou estudando o problema da predição do chf no meu mestrado.\n",
        "Os problemas relacionados à estimação do CHF estão relacionados a transferência de calor, máquina de calor, entre outros.\n",
        "O CHF pode ser considerado como o limite térmico de um fenomeno onde a ocorrência da mudança de fase durante o aquecimento o que pode gerar uma queda repentina na eficiência da transferência de calor o que pode causar um superaquecimento na superfície aquecida. \n",
        "Um exemplo é um tubo sendo e água como líquido refrigerante, ao aquecer o tubo e o mesmo alcançar o limite do chf bolhas começam a se formar ao redor do tubo formando uma \"camada\" de ar entre o tubo e a água reduzindo a capacidade de transferência do calor do tubo para a água o que causa um superaquecimento que pode derreter o tubo dependendo do material utilizado.\n",
        "Um exemplo do comportamento do fluxo de calor ao longo da variação da temperatura é apresentado abaixo juntamente com o o ponto **E** representando o momento em que o fluxo apresenta seu limite juntamente com a temperatura:\n",
        "\n",
        "![chf.png](data:image/png;base64,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)\n",
        "\n"
      ],
      "metadata": {
        "id": "-L1VZBUVv8os"
      }
    },
    {
      "cell_type": "markdown",
      "source": [
        "Os dados utilizados é um compilado de vários exprimentos realizados por diferentes autores onde temos observadas diversas variáveis relacionadas aos experimentos realizados. Localização da base no kaggle: "
      ],
      "metadata": {
        "id": "_qMIHFSH4rHE"
      }
    },
    {
      "cell_type": "markdown",
      "source": [
        "## Limpeza e Análise Descritiva dos Dados"
      ],
      "metadata": {
        "id": "MZTm4Is361Is"
      }
    },
    {
      "cell_type": "code",
      "source": [
        "!pip install MiniSom"
      ],
      "metadata": {
        "colab": {
          "base_uri": "https://localhost:8080/"
        },
        "id": "pmuWQa7omXGk",
        "outputId": "e4817f5f-32a7-4ff7-848e-0522f28d2dae"
      },
      "execution_count": null,
      "outputs": [
        {
          "output_type": "stream",
          "name": "stdout",
          "text": [
            "Looking in indexes: https://pypi.org/simple, https://us-python.pkg.dev/colab-wheels/public/simple/\n",
            "Collecting miniSom\n",
            "  Downloading MiniSom-2.3.0.tar.gz (8.8 kB)\n",
            "Building wheels for collected packages: miniSom\n",
            "  Building wheel for miniSom (setup.py) ... \u001b[?25l\u001b[?25hdone\n",
            "  Created wheel for miniSom: filename=MiniSom-2.3.0-py3-none-any.whl size=9018 sha256=ae8a5f5de595e66f703ce6b76ae1aebc8d206efbda1359ba65ace1d46d4483f4\n",
            "  Stored in directory: /root/.cache/pip/wheels/d4/ca/4a/488772b0399fec45ff53132ed14c948dec4b30deee3a532f80\n",
            "Successfully built miniSom\n",
            "Installing collected packages: miniSom\n",
            "Successfully installed miniSom-2.3.0\n"
          ]
        }
      ]
    },
    {
      "cell_type": "code",
      "source": [
        "from minisom import MiniSom\n",
        "import matplotlib.pyplot as plt\n",
        "import pandas as pd\n",
        "import numpy as np"
      ],
      "metadata": {
        "id": "yEEH1LpumNhO"
      },
      "execution_count": null,
      "outputs": []
    },
    {
      "cell_type": "code",
      "execution_count": 27,
      "metadata": {
        "id": "nNWo1Rt6tItQ"
      },
      "outputs": [],
      "source": [
        "dados_chf = pd.read_csv(\"Data_CHF_Zhao_2020_ATE.csv\")"
      ]
    },
    {
      "cell_type": "code",
      "source": [
        "# realizando a limpeza dos dados iremos remover as informacoes de ID e autor pois estas nao comtribuem para a modelagem\n",
        "\n",
        "dados_chf.drop(labels = [\"id\",\"author\"], axis = 1, inplace = True)"
      ],
      "metadata": {
        "id": "GDt8k_QOzxnI"
      },
      "execution_count": 28,
      "outputs": []
    },
    {
      "cell_type": "code",
      "source": [
        "dados_chf.head()"
      ],
      "metadata": {
        "colab": {
          "base_uri": "https://localhost:8080/",
          "height": 206
        },
        "id": "bzeXMgppzypT",
        "outputId": "eff11054-aa37-457a-ad20-d66829b4a1bb"
      },
      "execution_count": 29,
      "outputs": [
        {
          "output_type": "execute_result",
          "data": {
            "text/plain": [
              "  geometry  pressure [MPa]  mass_flux [kg/m2-s]  x_e_out [-]  D_e [mm]  \\\n",
              "0     tube            0.39                 5600      -0.1041       3.0   \n",
              "1     tube            0.31                 6700      -0.0596       3.0   \n",
              "2     tube            0.33                 4300      -0.0395       3.0   \n",
              "3     tube            0.62                 6400      -0.1460       3.0   \n",
              "4     tube            0.64                 4700      -0.0849       3.0   \n",
              "\n",
              "   D_h [mm]  length [mm]  chf_exp [MW/m2]  \n",
              "0       3.0          100             11.3  \n",
              "1       3.0          100             10.6  \n",
              "2       3.0          100              7.3  \n",
              "3       3.0          100             12.8  \n",
              "4       3.0          100             11.0  "
            ],
            "text/html": [
              "\n",
              "  <div id=\"df-f8fb248b-2ccf-4296-be67-9fa63f9f3ec7\">\n",
              "    <div class=\"colab-df-container\">\n",
              "      <div>\n",
              "<style scoped>\n",
              "    .dataframe tbody tr th:only-of-type {\n",
              "        vertical-align: middle;\n",
              "    }\n",
              "\n",
              "    .dataframe tbody tr th {\n",
              "        vertical-align: top;\n",
              "    }\n",
              "\n",
              "    .dataframe thead th {\n",
              "        text-align: right;\n",
              "    }\n",
              "</style>\n",
              "<table border=\"1\" class=\"dataframe\">\n",
              "  <thead>\n",
              "    <tr style=\"text-align: right;\">\n",
              "      <th></th>\n",
              "      <th>geometry</th>\n",
              "      <th>pressure [MPa]</th>\n",
              "      <th>mass_flux [kg/m2-s]</th>\n",
              "      <th>x_e_out [-]</th>\n",
              "      <th>D_e [mm]</th>\n",
              "      <th>D_h [mm]</th>\n",
              "      <th>length [mm]</th>\n",
              "      <th>chf_exp [MW/m2]</th>\n",
              "    </tr>\n",
              "  </thead>\n",
              "  <tbody>\n",
              "    <tr>\n",
              "      <th>0</th>\n",
              "      <td>tube</td>\n",
              "      <td>0.39</td>\n",
              "      <td>5600</td>\n",
              "      <td>-0.1041</td>\n",
              "      <td>3.0</td>\n",
              "      <td>3.0</td>\n",
              "      <td>100</td>\n",
              "      <td>11.3</td>\n",
              "    </tr>\n",
              "    <tr>\n",
              "      <th>1</th>\n",
              "      <td>tube</td>\n",
              "      <td>0.31</td>\n",
              "      <td>6700</td>\n",
              "      <td>-0.0596</td>\n",
              "      <td>3.0</td>\n",
              "      <td>3.0</td>\n",
              "      <td>100</td>\n",
              "      <td>10.6</td>\n",
              "    </tr>\n",
              "    <tr>\n",
              "      <th>2</th>\n",
              "      <td>tube</td>\n",
              "      <td>0.33</td>\n",
              "      <td>4300</td>\n",
              "      <td>-0.0395</td>\n",
              "      <td>3.0</td>\n",
              "      <td>3.0</td>\n",
              "      <td>100</td>\n",
              "      <td>7.3</td>\n",
              "    </tr>\n",
              "    <tr>\n",
              "      <th>3</th>\n",
              "      <td>tube</td>\n",
              "      <td>0.62</td>\n",
              "      <td>6400</td>\n",
              "      <td>-0.1460</td>\n",
              "      <td>3.0</td>\n",
              "      <td>3.0</td>\n",
              "      <td>100</td>\n",
              "      <td>12.8</td>\n",
              "    </tr>\n",
              "    <tr>\n",
              "      <th>4</th>\n",
              "      <td>tube</td>\n",
              "      <td>0.64</td>\n",
              "      <td>4700</td>\n",
              "      <td>-0.0849</td>\n",
              "      <td>3.0</td>\n",
              "      <td>3.0</td>\n",
              "      <td>100</td>\n",
              "      <td>11.0</td>\n",
              "    </tr>\n",
              "  </tbody>\n",
              "</table>\n",
              "</div>\n",
              "      <button class=\"colab-df-convert\" onclick=\"convertToInteractive('df-f8fb248b-2ccf-4296-be67-9fa63f9f3ec7')\"\n",
              "              title=\"Convert this dataframe to an interactive table.\"\n",
              "              style=\"display:none;\">\n",
              "        \n",
              "  <svg xmlns=\"http://www.w3.org/2000/svg\" height=\"24px\"viewBox=\"0 0 24 24\"\n",
              "       width=\"24px\">\n",
              "    <path d=\"M0 0h24v24H0V0z\" fill=\"none\"/>\n",
              "    <path d=\"M18.56 5.44l.94 2.06.94-2.06 2.06-.94-2.06-.94-.94-2.06-.94 2.06-2.06.94zm-11 1L8.5 8.5l.94-2.06 2.06-.94-2.06-.94L8.5 2.5l-.94 2.06-2.06.94zm10 10l.94 2.06.94-2.06 2.06-.94-2.06-.94-.94-2.06-.94 2.06-2.06.94z\"/><path d=\"M17.41 7.96l-1.37-1.37c-.4-.4-.92-.59-1.43-.59-.52 0-1.04.2-1.43.59L10.3 9.45l-7.72 7.72c-.78.78-.78 2.05 0 2.83L4 21.41c.39.39.9.59 1.41.59.51 0 1.02-.2 1.41-.59l7.78-7.78 2.81-2.81c.8-.78.8-2.07 0-2.86zM5.41 20L4 18.59l7.72-7.72 1.47 1.35L5.41 20z\"/>\n",
              "  </svg>\n",
              "      </button>\n",
              "      \n",
              "  <style>\n",
              "    .colab-df-container {\n",
              "      display:flex;\n",
              "      flex-wrap:wrap;\n",
              "      gap: 12px;\n",
              "    }\n",
              "\n",
              "    .colab-df-convert {\n",
              "      background-color: #E8F0FE;\n",
              "      border: none;\n",
              "      border-radius: 50%;\n",
              "      cursor: pointer;\n",
              "      display: none;\n",
              "      fill: #1967D2;\n",
              "      height: 32px;\n",
              "      padding: 0 0 0 0;\n",
              "      width: 32px;\n",
              "    }\n",
              "\n",
              "    .colab-df-convert:hover {\n",
              "      background-color: #E2EBFA;\n",
              "      box-shadow: 0px 1px 2px rgba(60, 64, 67, 0.3), 0px 1px 3px 1px rgba(60, 64, 67, 0.15);\n",
              "      fill: #174EA6;\n",
              "    }\n",
              "\n",
              "    [theme=dark] .colab-df-convert {\n",
              "      background-color: #3B4455;\n",
              "      fill: #D2E3FC;\n",
              "    }\n",
              "\n",
              "    [theme=dark] .colab-df-convert:hover {\n",
              "      background-color: #434B5C;\n",
              "      box-shadow: 0px 1px 3px 1px rgba(0, 0, 0, 0.15);\n",
              "      filter: drop-shadow(0px 1px 2px rgba(0, 0, 0, 0.3));\n",
              "      fill: #FFFFFF;\n",
              "    }\n",
              "  </style>\n",
              "\n",
              "      <script>\n",
              "        const buttonEl =\n",
              "          document.querySelector('#df-f8fb248b-2ccf-4296-be67-9fa63f9f3ec7 button.colab-df-convert');\n",
              "        buttonEl.style.display =\n",
              "          google.colab.kernel.accessAllowed ? 'block' : 'none';\n",
              "\n",
              "        async function convertToInteractive(key) {\n",
              "          const element = document.querySelector('#df-f8fb248b-2ccf-4296-be67-9fa63f9f3ec7');\n",
              "          const dataTable =\n",
              "            await google.colab.kernel.invokeFunction('convertToInteractive',\n",
              "                                                     [key], {});\n",
              "          if (!dataTable) return;\n",
              "\n",
              "          const docLinkHtml = 'Like what you see? Visit the ' +\n",
              "            '<a target=\"_blank\" href=https://colab.research.google.com/notebooks/data_table.ipynb>data table notebook</a>'\n",
              "            + ' to learn more about interactive tables.';\n",
              "          element.innerHTML = '';\n",
              "          dataTable['output_type'] = 'display_data';\n",
              "          await google.colab.output.renderOutput(dataTable, element);\n",
              "          const docLink = document.createElement('div');\n",
              "          docLink.innerHTML = docLinkHtml;\n",
              "          element.appendChild(docLink);\n",
              "        }\n",
              "      </script>\n",
              "    </div>\n",
              "  </div>\n",
              "  "
            ]
          },
          "metadata": {},
          "execution_count": 29
        }
      ]
    },
    {
      "cell_type": "code",
      "source": [
        "dados_chf.shape"
      ],
      "metadata": {
        "colab": {
          "base_uri": "https://localhost:8080/"
        },
        "id": "30ix6yzLngVR",
        "outputId": "6e696dba-2f20-4716-9ce2-bfa774314538"
      },
      "execution_count": 31,
      "outputs": [
        {
          "output_type": "execute_result",
          "data": {
            "text/plain": [
              "(1865, 8)"
            ]
          },
          "metadata": {},
          "execution_count": 31
        }
      ]
    },
    {
      "cell_type": "code",
      "source": [
        "# renomeando as colunas para formatacao code friendly\n",
        "\n",
        "dados_chf.columns = [\"geometry\",\"pressure\",\"mass_flux\",\"x_e_out\",\"d_e\",\"d_h\",\"lenght\",\"chf_exp\"]"
      ],
      "metadata": {
        "id": "Yuzu7aqC0Zji"
      },
      "execution_count": 32,
      "outputs": []
    },
    {
      "cell_type": "code",
      "source": [
        "dados_chf.columns.values"
      ],
      "metadata": {
        "colab": {
          "base_uri": "https://localhost:8080/"
        },
        "id": "mqD9XgOX1Ly2",
        "outputId": "559e8c96-d67a-487a-b1cd-5ee255ad785f"
      },
      "execution_count": 33,
      "outputs": [
        {
          "output_type": "execute_result",
          "data": {
            "text/plain": [
              "array(['geometry', 'pressure', 'mass_flux', 'x_e_out', 'd_e', 'd_h',\n",
              "       'lenght', 'chf_exp'], dtype=object)"
            ]
          },
          "metadata": {},
          "execution_count": 33
        }
      ]
    },
    {
      "cell_type": "code",
      "source": [
        "# iremos remover a variavel categorica da analise\n",
        "geometry = dados_chf.geometry\n",
        "dados_chf.drop(columns=[\"geometry\"],inplace = True)"
      ],
      "metadata": {
        "id": "BWi4v59Emhw3"
      },
      "execution_count": 34,
      "outputs": []
    },
    {
      "cell_type": "code",
      "source": [
        "dados_chf.head()"
      ],
      "metadata": {
        "colab": {
          "base_uri": "https://localhost:8080/",
          "height": 206
        },
        "id": "MutxUOi8nk2q",
        "outputId": "f3f7941b-d290-4cce-821e-9753d7c834e2"
      },
      "execution_count": 35,
      "outputs": [
        {
          "output_type": "execute_result",
          "data": {
            "text/plain": [
              "   pressure  mass_flux  x_e_out  d_e  d_h  lenght  chf_exp\n",
              "0      0.39       5600  -0.1041  3.0  3.0     100     11.3\n",
              "1      0.31       6700  -0.0596  3.0  3.0     100     10.6\n",
              "2      0.33       4300  -0.0395  3.0  3.0     100      7.3\n",
              "3      0.62       6400  -0.1460  3.0  3.0     100     12.8\n",
              "4      0.64       4700  -0.0849  3.0  3.0     100     11.0"
            ],
            "text/html": [
              "\n",
              "  <div id=\"df-aadae05d-9c7f-4e66-911d-c6fec88cccab\">\n",
              "    <div class=\"colab-df-container\">\n",
              "      <div>\n",
              "<style scoped>\n",
              "    .dataframe tbody tr th:only-of-type {\n",
              "        vertical-align: middle;\n",
              "    }\n",
              "\n",
              "    .dataframe tbody tr th {\n",
              "        vertical-align: top;\n",
              "    }\n",
              "\n",
              "    .dataframe thead th {\n",
              "        text-align: right;\n",
              "    }\n",
              "</style>\n",
              "<table border=\"1\" class=\"dataframe\">\n",
              "  <thead>\n",
              "    <tr style=\"text-align: right;\">\n",
              "      <th></th>\n",
              "      <th>pressure</th>\n",
              "      <th>mass_flux</th>\n",
              "      <th>x_e_out</th>\n",
              "      <th>d_e</th>\n",
              "      <th>d_h</th>\n",
              "      <th>lenght</th>\n",
              "      <th>chf_exp</th>\n",
              "    </tr>\n",
              "  </thead>\n",
              "  <tbody>\n",
              "    <tr>\n",
              "      <th>0</th>\n",
              "      <td>0.39</td>\n",
              "      <td>5600</td>\n",
              "      <td>-0.1041</td>\n",
              "      <td>3.0</td>\n",
              "      <td>3.0</td>\n",
              "      <td>100</td>\n",
              "      <td>11.3</td>\n",
              "    </tr>\n",
              "    <tr>\n",
              "      <th>1</th>\n",
              "      <td>0.31</td>\n",
              "      <td>6700</td>\n",
              "      <td>-0.0596</td>\n",
              "      <td>3.0</td>\n",
              "      <td>3.0</td>\n",
              "      <td>100</td>\n",
              "      <td>10.6</td>\n",
              "    </tr>\n",
              "    <tr>\n",
              "      <th>2</th>\n",
              "      <td>0.33</td>\n",
              "      <td>4300</td>\n",
              "      <td>-0.0395</td>\n",
              "      <td>3.0</td>\n",
              "      <td>3.0</td>\n",
              "      <td>100</td>\n",
              "      <td>7.3</td>\n",
              "    </tr>\n",
              "    <tr>\n",
              "      <th>3</th>\n",
              "      <td>0.62</td>\n",
              "      <td>6400</td>\n",
              "      <td>-0.1460</td>\n",
              "      <td>3.0</td>\n",
              "      <td>3.0</td>\n",
              "      <td>100</td>\n",
              "      <td>12.8</td>\n",
              "    </tr>\n",
              "    <tr>\n",
              "      <th>4</th>\n",
              "      <td>0.64</td>\n",
              "      <td>4700</td>\n",
              "      <td>-0.0849</td>\n",
              "      <td>3.0</td>\n",
              "      <td>3.0</td>\n",
              "      <td>100</td>\n",
              "      <td>11.0</td>\n",
              "    </tr>\n",
              "  </tbody>\n",
              "</table>\n",
              "</div>\n",
              "      <button class=\"colab-df-convert\" onclick=\"convertToInteractive('df-aadae05d-9c7f-4e66-911d-c6fec88cccab')\"\n",
              "              title=\"Convert this dataframe to an interactive table.\"\n",
              "              style=\"display:none;\">\n",
              "        \n",
              "  <svg xmlns=\"http://www.w3.org/2000/svg\" height=\"24px\"viewBox=\"0 0 24 24\"\n",
              "       width=\"24px\">\n",
              "    <path d=\"M0 0h24v24H0V0z\" fill=\"none\"/>\n",
              "    <path d=\"M18.56 5.44l.94 2.06.94-2.06 2.06-.94-2.06-.94-.94-2.06-.94 2.06-2.06.94zm-11 1L8.5 8.5l.94-2.06 2.06-.94-2.06-.94L8.5 2.5l-.94 2.06-2.06.94zm10 10l.94 2.06.94-2.06 2.06-.94-2.06-.94-.94-2.06-.94 2.06-2.06.94z\"/><path d=\"M17.41 7.96l-1.37-1.37c-.4-.4-.92-.59-1.43-.59-.52 0-1.04.2-1.43.59L10.3 9.45l-7.72 7.72c-.78.78-.78 2.05 0 2.83L4 21.41c.39.39.9.59 1.41.59.51 0 1.02-.2 1.41-.59l7.78-7.78 2.81-2.81c.8-.78.8-2.07 0-2.86zM5.41 20L4 18.59l7.72-7.72 1.47 1.35L5.41 20z\"/>\n",
              "  </svg>\n",
              "      </button>\n",
              "      \n",
              "  <style>\n",
              "    .colab-df-container {\n",
              "      display:flex;\n",
              "      flex-wrap:wrap;\n",
              "      gap: 12px;\n",
              "    }\n",
              "\n",
              "    .colab-df-convert {\n",
              "      background-color: #E8F0FE;\n",
              "      border: none;\n",
              "      border-radius: 50%;\n",
              "      cursor: pointer;\n",
              "      display: none;\n",
              "      fill: #1967D2;\n",
              "      height: 32px;\n",
              "      padding: 0 0 0 0;\n",
              "      width: 32px;\n",
              "    }\n",
              "\n",
              "    .colab-df-convert:hover {\n",
              "      background-color: #E2EBFA;\n",
              "      box-shadow: 0px 1px 2px rgba(60, 64, 67, 0.3), 0px 1px 3px 1px rgba(60, 64, 67, 0.15);\n",
              "      fill: #174EA6;\n",
              "    }\n",
              "\n",
              "    [theme=dark] .colab-df-convert {\n",
              "      background-color: #3B4455;\n",
              "      fill: #D2E3FC;\n",
              "    }\n",
              "\n",
              "    [theme=dark] .colab-df-convert:hover {\n",
              "      background-color: #434B5C;\n",
              "      box-shadow: 0px 1px 3px 1px rgba(0, 0, 0, 0.15);\n",
              "      filter: drop-shadow(0px 1px 2px rgba(0, 0, 0, 0.3));\n",
              "      fill: #FFFFFF;\n",
              "    }\n",
              "  </style>\n",
              "\n",
              "      <script>\n",
              "        const buttonEl =\n",
              "          document.querySelector('#df-aadae05d-9c7f-4e66-911d-c6fec88cccab button.colab-df-convert');\n",
              "        buttonEl.style.display =\n",
              "          google.colab.kernel.accessAllowed ? 'block' : 'none';\n",
              "\n",
              "        async function convertToInteractive(key) {\n",
              "          const element = document.querySelector('#df-aadae05d-9c7f-4e66-911d-c6fec88cccab');\n",
              "          const dataTable =\n",
              "            await google.colab.kernel.invokeFunction('convertToInteractive',\n",
              "                                                     [key], {});\n",
              "          if (!dataTable) return;\n",
              "\n",
              "          const docLinkHtml = 'Like what you see? Visit the ' +\n",
              "            '<a target=\"_blank\" href=https://colab.research.google.com/notebooks/data_table.ipynb>data table notebook</a>'\n",
              "            + ' to learn more about interactive tables.';\n",
              "          element.innerHTML = '';\n",
              "          dataTable['output_type'] = 'display_data';\n",
              "          await google.colab.output.renderOutput(dataTable, element);\n",
              "          const docLink = document.createElement('div');\n",
              "          docLink.innerHTML = docLinkHtml;\n",
              "          element.appendChild(docLink);\n",
              "        }\n",
              "      </script>\n",
              "    </div>\n",
              "  </div>\n",
              "  "
            ]
          },
          "metadata": {},
          "execution_count": 35
        }
      ]
    },
    {
      "cell_type": "code",
      "source": [
        "# normalizando os dados\n",
        "\n",
        "max_treino = dados_chf.max()\n",
        "min_treino = dados_chf.min()\n",
        "x_normalizado = (dados_chf-min_treino)/(max_treino-min_treino)\n",
        "\n"
      ],
      "metadata": {
        "id": "a69MnVe87Pvi"
      },
      "execution_count": 36,
      "outputs": []
    },
    {
      "cell_type": "code",
      "source": [
        "x_normalizado.shape"
      ],
      "metadata": {
        "colab": {
          "base_uri": "https://localhost:8080/"
        },
        "id": "3z291xCQnK-Q",
        "outputId": "6fccfaaa-27c8-4bf9-ca34-152da2549685"
      },
      "execution_count": 37,
      "outputs": [
        {
          "output_type": "execute_result",
          "data": {
            "text/plain": [
              "(1865, 7)"
            ]
          },
          "metadata": {},
          "execution_count": 37
        }
      ]
    },
    {
      "cell_type": "code",
      "source": [
        "x_np = x_normalizado.to_numpy()"
      ],
      "metadata": {
        "id": "b74TKBUOnU_0"
      },
      "execution_count": 38,
      "outputs": []
    },
    {
      "cell_type": "code",
      "source": [
        "x_np"
      ],
      "metadata": {
        "colab": {
          "base_uri": "https://localhost:8080/"
        },
        "id": "kpeWAPeInYAz",
        "outputId": "ced31717-0f46-460b-83f8-ef6546c5cb65"
      },
      "execution_count": 40,
      "outputs": [
        {
          "output_type": "execute_result",
          "data": {
            "text/plain": [
              "array([[0.01409135, 0.70219436, 0.69409302, ..., 0.01680672, 0.02962475,\n",
              "        0.56756757],\n",
              "       [0.01020408, 0.84012539, 0.73459543, ..., 0.01680672, 0.02962475,\n",
              "        0.52972973],\n",
              "       [0.0111759 , 0.53918495, 0.75288978, ..., 0.01680672, 0.02962475,\n",
              "        0.35135135],\n",
              "       ...,\n",
              "       [0.04421769, 0.2507837 , 0.77892054, ..., 1.        , 0.        ,\n",
              "        0.54054054],\n",
              "       [0.04421769, 0.2507837 , 0.76899973, ..., 1.        , 0.        ,\n",
              "        0.54594595],\n",
              "       [0.04421769, 0.2507837 , 0.74934013, ..., 1.        , 0.        ,\n",
              "        0.57837838]])"
            ]
          },
          "metadata": {},
          "execution_count": 40
        }
      ]
    },
    {
      "cell_type": "code",
      "source": [
        "som = MiniSom(2, 1, 7, sigma=0.3, learning_rate=0.4)\n",
        "som.train(x_np, 500) # trains the SOM with 100 iterations"
      ],
      "metadata": {
        "id": "-dKkjRIZm7dw"
      },
      "execution_count": 77,
      "outputs": []
    },
    {
      "cell_type": "code",
      "source": [
        "winners_list = []\n",
        "for i in range(len(x_np)):\n",
        "  winner = som.winner(x_np[i])\n",
        "  winners_list.append(winner)"
      ],
      "metadata": {
        "id": "f2yYNE_ioohF"
      },
      "execution_count": 79,
      "outputs": []
    },
    {
      "cell_type": "code",
      "source": [
        "# each neuron represents a cluster\n",
        "winner_coordinates = np.array([som.winner(x) for x in x_np]).T\n",
        "# with np.ravel_multi_index we convert the bidimensional\n",
        "# coordinates to a monodimensional index\n",
        "cluster_index = np.ravel_multi_index(winner_coordinates, (5,1))"
      ],
      "metadata": {
        "id": "RCNeM1yVphH9"
      },
      "execution_count": 80,
      "outputs": []
    },
    {
      "cell_type": "code",
      "source": [
        "np.unique(x_np)"
      ],
      "metadata": {
        "colab": {
          "base_uri": "https://localhost:8080/"
        },
        "id": "uFDIedp8q_TK",
        "outputId": "6d9a5be0-4d92-44d1-9c91-975a407524fb"
      },
      "execution_count": 81,
      "outputs": [
        {
          "output_type": "execute_result",
          "data": {
            "text/plain": [
              "array([0.00000000e+00, 8.40336134e-04, 2.73972603e-03, ...,\n",
              "       9.94858934e-01, 9.98244514e-01, 1.00000000e+00])"
            ]
          },
          "metadata": {},
          "execution_count": 81
        }
      ]
    },
    {
      "cell_type": "code",
      "source": [
        "%matplotlib inline\n",
        "# plotting the clusters using the first 2 dimentions of the data\n",
        "for c in np.unique(cluster_index):\n",
        "    plt.scatter(x_np[cluster_index == c, 0],\n",
        "                x_np[cluster_index == c, 1], label='cluster='+str(c), alpha=.7)\n",
        "\n",
        "# plotting centroids\n",
        "for centroid in som.get_weights():\n",
        "    plt.scatter(centroid[:, 0], centroid[:, 1], marker='x', \n",
        "                s=80, linewidths=35, color='k', label='centroid')\n",
        "plt.legend();"
      ],
      "metadata": {
        "colab": {
          "base_uri": "https://localhost:8080/",
          "height": 265
        },
        "id": "ZQ6_wfbDqbee",
        "outputId": "cb29b09e-b394-4e49-d5d8-e8aa6c09697b"
      },
      "execution_count": 82,
      "outputs": [
        {
          "output_type": "display_data",
          "data": {
            "text/plain": [
              "<Figure size 432x288 with 1 Axes>"
            ],
            "image/png": "[encoded data removed]"
          },
          "metadata": {
            "needs_background": "light"
          }
        }
      ]
    },
    {
      "cell_type": "code",
      "source": [
        ""
      ],
      "metadata": {
        "id": "SjwcoyfwrDqS"
      },
      "execution_count": null,
      "outputs": []
    }
  ]
}